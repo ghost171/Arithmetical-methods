{
 "cells": [
  {
   "cell_type": "code",
   "execution_count": 11,
   "metadata": {},
   "outputs": [],
   "source": [
    "%matplotlib inline"
   ]
  },
  {
   "cell_type": "code",
   "execution_count": 12,
   "metadata": {},
   "outputs": [
    {
     "name": "stdout",
     "output_type": "stream",
     "text": [
      "50\n",
      "50\n"
     ]
    },
    {
     "data": {
      "image/png": "[encoded data removed]",
      "text/plain": [
       "<Figure size 432x288 with 1 Axes>"
      ]
     },
     "metadata": {},
     "output_type": "display_data"
    }
   ],
   "source": [
    "import numpy as np\n",
    "import matplotlib.pyplot as plt\n",
    "import matplotlib.animation as animation\n",
    "\n",
    "\n",
    "def u0(x):\n",
    "    return 1.0 / (1 + 2 * x * x )\n",
    "\n",
    "def solution(x , t):\n",
    "    return u0(x - C * t)\n",
    "\n",
    "def animate (k):\n",
    "    plt.clf()\n",
    "    plt.ylim(0 ,1)\n",
    "    #plt.title( time = \"1\" + str(tau * k))\n",
    "    plt.plot(x, y[k], marker = 'o')\n",
    "    plt.legend(\"Numerical\")\n",
    "    plt.plot(x, u[k], marker = '*')\n",
    "    plt.legend(\"Analytical\")\n",
    "\n",
    "C = 1.0\n",
    "T = 2.0\n",
    "L , R = -5.0 , 5.0\n",
    "\n",
    "\n",
    "n = int(input())\n",
    "m = int(input())\n",
    "h = (R - L) / n\n",
    "tau = T / m\n",
    "\n",
    "x = np.linspace(L, R, n + 1)\n",
    "t = np.linspace(0.0, T, m + 1)\n",
    "y = np.zeros((m + 1, n + 1))\n",
    "\n",
    "d = C * tau / h\n",
    "y[0] = np.vectorize(u0)(x)\n",
    "for k in range (m):\n",
    "    for i in range (1 , n + 1):\n",
    "        y[k + 1][i] = y[k][i] - d * (y[k][i] - y[k][i - 1])\n",
    "vsolution = np.vectorize(solution, excluded=['t'])\n",
    "u = np.zeros((m + 1 , n + 1))\n",
    "for k in range (m):\n",
    "    u[k] = vsolution(x , tau * k)\n",
    "\n",
    "ani = animation.FuncAnimation(plt.figure(0), animate, frames = y.shape[0], interval = 100)\n",
    "ani.save('transfer.mp4')\n",
    "\n",
    "plt.show()"
   ]
  },
  {
   "cell_type": "code",
   "execution_count": 15,
   "metadata": {},
   "outputs": [
    {
     "name": "stdout",
     "output_type": "stream",
     "text": [
      "n = 50\n",
      "m = 50\n"
     ]
    },
    {
     "data": {
      "image/png": "[encoded data removed]",
      "text/plain": [
       "<Figure size 432x288 with 1 Axes>"
      ]
     },
     "metadata": {},
     "output_type": "display_data"
    }
   ],
   "source": [
    "import numpy as np\n",
    "import matplotlib.pyplot as plt\n",
    "import matplotlib.animation as animation\n",
    "\n",
    "def u0(x):\n",
    "    return np.exp(-x*x/4)\n",
    "\n",
    "def solution(x , t):    \n",
    "    return 1 / np.sqrt(t + 1) * np.exp(-x * x / (4 * (t + 1)))\n",
    "\n",
    "def animate (k):\n",
    "    plt.clf()\n",
    "    plt.ylim(0 ,1)\n",
    "    #plt.title( time = \"1\" + str(tau * k))\n",
    "    plt.plot(x, y[k], marker = 'o')\n",
    "    plt.legend(\"Numerical\")\n",
    "    plt.plot(x, u[k], marker = '*')\n",
    "    plt.legend(\"Analytical\")\n",
    "\n",
    "mu = 1.0\n",
    "T = 2.0\n",
    "L , R = -10.0 , 10.0\n",
    "\n",
    "print(\"n = \", end = \"\")\n",
    "n = int(input())\n",
    "print(\"m = \", end = \"\")\n",
    "m = int(input())\n",
    "h = (R - L) / n\n",
    "tau = T / m\n",
    "\n",
    "x = np.linspace(L, R, n + 1)\n",
    "t = np.linspace(0.0, T, m + 1)\n",
    "y = np.zeros((m + 1, n + 1))\n",
    "\n",
    "d = mu * tau / (h * h)\n",
    "y[0] = np.vectorize(u0)(x)\n",
    "for k in range (m):\n",
    "    for i in range (1 , n):\n",
    "        y[k + 1][i] = y[k][i] + d * (y[k][i - 1] - 2 * y[k][i] + y[k][i + 1])\n",
    "vsolution = np.vectorize(solution, excluded=['t'])\n",
    "u = np.zeros((m + 1 , n + 1))\n",
    "for k in range (m):\n",
    "    u[k] = vsolution(x , tau * k)\n",
    "\n",
    "ani = animation.FuncAnimation(plt.figure(0), animate, frames = y.shape[0], interval = 100)\n",
    "ani.save('transfer.mp4')\n",
    "plt.show()\n"
   ]
  },
  {
   "cell_type": "code",
   "execution_count": null,
   "metadata": {},
   "outputs": [],
   "source": []
  }
 ],
 "metadata": {
  "kernelspec": {
   "display_name": "Python 3",
   "language": "python",
   "name": "python3"
  },
  "language_info": {
   "codemirror_mode": {
    "name": "ipython",
    "version": 3
   },
   "file_extension": ".py",
   "mimetype": "text/x-python",
   "name": "python",
   "nbconvert_exporter": "python",
   "pygments_lexer": "ipython3",
   "version": "3.6.9"
  }
 },
 "nbformat": 4,
 "nbformat_minor": 2
}
