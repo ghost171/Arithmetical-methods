{
 "cells": [
  {
   "cell_type": "code",
   "execution_count": 1,
   "metadata": {
    "scrolled": false
   },
   "outputs": [
    {
     "name": "stdout",
     "output_type": "stream",
     "text": [
      "50\n",
      "\n",
      "LINALG\n",
      "\n",
      "0.03058101221698866\n",
      "0.00859370671471717\n",
      "0.016662091516281965\n",
      "0.023548318263582786\n",
      "0.022734078984233574\n",
      "0.008314464134073314\n",
      "0.0015261552308970586\n",
      "-0.009909640964774534\n",
      "0.027624985777616497\n",
      "0.01279723149527929\n",
      "-0.003825138265656342\n",
      "0.007329460382035712\n",
      "-0.0071487872913873615\n",
      "0.006069551460296376\n",
      "0.019248933434436562\n",
      "0.024722384101403854\n",
      "0.007548449256211161\n",
      "-0.009714381693198498\n",
      "-0.0010362538443110072\n",
      "0.01277788711460043\n",
      "-0.0030457819962553547\n",
      "0.006111578220169239\n",
      "0.02206818059524249\n",
      "-0.0037275859137847664\n",
      "0.0025045767736643293\n",
      "0.006310974218743744\n",
      "-0.005727774279607361\n",
      "0.016334314154980573\n",
      "0.008759396505472597\n",
      "0.019008524092961682\n",
      "0.011267545885538403\n",
      "0.015796846797968552\n",
      "0.02691446741887141\n",
      "0.023965350004224152\n",
      "0.004611701560193319\n",
      "-0.0019394277733855462\n",
      "0.024346552288547083\n",
      "0.015637804894842913\n",
      "0.007409879052473917\n",
      "0.01284623738466584\n",
      "0.011218356655500753\n",
      "0.03449329383392797\n",
      "0.027517623987738243\n",
      "-0.004335830946165452\n",
      "-0.007081027543568322\n",
      "0.004576012352413198\n",
      "-4.8329277053978505e-05\n",
      "0.02144891172544319\n",
      "0.01842245063523854\n",
      "0.003083023519098573\n",
      "\n",
      "MY SOLUTION\n",
      "\n",
      "0.030581012216988657\n",
      "0.008593706714717176\n",
      "0.01666209151628197\n",
      "0.023548318263582786\n",
      "0.022734078984233574\n",
      "0.00831446413407331\n",
      "0.0015261552308970614\n",
      "-0.009909640964774534\n",
      "0.027624985777616497\n",
      "0.01279723149527929\n",
      "-0.0038251382656563407\n",
      "0.0073294603820357055\n",
      "-0.0071487872913873615\n",
      "0.006069551460296371\n",
      "0.019248933434436566\n",
      "0.024722384101403844\n",
      "0.007548449256211159\n",
      "-0.009714381693198498\n",
      "-0.0010362538443110093\n",
      "0.01277788711460042\n",
      "-0.0030457819962553543\n",
      "0.0061115782201692425\n",
      "0.022068180595242497\n",
      "-0.003727585913784766\n",
      "0.0025045767736643246\n",
      "0.00631097421874374\n",
      "-0.005727774279607357\n",
      "0.01633431415498057\n",
      "0.008759396505472593\n",
      "0.01900852409296168\n",
      "0.011267545885538409\n",
      "0.015796846797968563\n",
      "0.026914467418871404\n",
      "0.023965350004224152\n",
      "0.004611701560193319\n",
      "-0.0019394277733855454\n",
      "0.024346552288547086\n",
      "0.015637804894842913\n",
      "0.007409879052473916\n",
      "0.01284623738466584\n",
      "0.011218356655500746\n",
      "0.034493293833927983\n",
      "0.02751762398773823\n",
      "-0.004335830946165453\n",
      "-0.00708102754356832\n",
      "0.004576012352413196\n",
      "-4.8329277053979345e-05\n",
      "0.02144891172544319\n",
      "0.018422450635238546\n",
      "0.0030830235190985726\n",
      "\n",
      "MY TIME: 0.12374401092529297\n",
      "LINALG TIME 0.0008530616760253906\n"
     ]
    }
   ],
   "source": [
    "#Hauss method\n",
    "import numpy as np\n",
    "import time\n",
    "\n",
    "n = int(input())\n",
    "A = np.random.rand(n, n)\n",
    "f = np.random.rand(n)\n",
    "A1 = A.copy()\n",
    "f1 = f.copy()\n",
    "for i in range(n):\n",
    "    for j in range(n):\n",
    "        if i != j:\n",
    "            A[i][i] += A[i][j] \n",
    "\n",
    "linalg_time = time.time()\n",
    "print()\n",
    "print(\"LINALG\")\n",
    "print()\n",
    "x1 = np.linalg.solve(A,f)\n",
    "linalg_time = time.time() - linalg_time\n",
    "for i in range(n):\n",
    "    print(x1[i])\n",
    "\n",
    "my_time = time.time()\n",
    "for k in range(n):\n",
    "        for j in range(k + 1, n):\n",
    "            A[k, j] = A[k, j] / A[k, k]\n",
    "        f[k] /= A[k][k]    \n",
    "        for i in range(k + 1, n):\n",
    "            for j in range(k + 1, n):\n",
    "                A[i][j] = A[i][j] - A[i][k] * A[k][j]\n",
    "            f[i] = f[i] - A[i][k] * f[k]\n",
    "            A[i][k] = 0\n",
    "x = np.zeros(n)\n",
    "for i in range(n - 1, -1, -1):\n",
    "    x[i] = f[i]\n",
    "    for j in range(i + 1, n):\n",
    "        x[i] -= A[i][j] * x[j]\n",
    "my_time = time.time() - my_time\n",
    "print()\n",
    "print(\"MY SOLUTION\")\n",
    "print()\n",
    "for i in range(n):\n",
    "    print(x[i])\n",
    "print()\n",
    "print(\"MY TIME:\", my_time)\n",
    "print(\"LINALG TIME\", linalg_time)\n"
   ]
  },
  {
   "cell_type": "code",
   "execution_count": 26,
   "metadata": {},
   "outputs": [
    {
     "data": {
      "text/plain": [
       "[<matplotlib.lines.Line2D at 0x7f85bc1faa20>]"
      ]
     },
     "execution_count": 26,
     "metadata": {},
     "output_type": "execute_result"
    },
    {
     "data": {
      "image/png": "[encoded data removed]",
      "text/plain": [
       "<Figure size 432x288 with 1 Axes>"
      ]
     },
     "metadata": {},
     "output_type": "display_data"
    }
   ],
   "source": [
    "import matplotlib.pyplot as plt\n",
    "n = [100, 200, 300, 400, 500]\n",
    "MY_TIME = [0.058176279067993164, 0.1583724021911621, 0.2645840644836426, 0.41249990463256836, 0.6429448127746582]\n",
    "LINALG_TIME = [0.009938478469848633, 0.013045072555541992, 0.005080461502075195, 0.009296417236328125, 0.010738849639892578]\n",
    "plt.plot(n, MY_TIME)\n",
    "plt.plot(n, LINALG_TIME)"
   ]
  },
  {
   "cell_type": "code",
   "execution_count": 39,
   "metadata": {},
   "outputs": [
    {
     "name": "stdout",
     "output_type": "stream",
     "text": [
      "A:\n",
      "[[0.88887501 0.05306055 0.08962094]\n",
      " [0.05306055 0.4138639  0.19828969]\n",
      " [0.08962094 0.19828969 0.87901556]]\n",
      "Linalg:\n",
      "[[0.89495593 0.         0.        ]\n",
      " [0.09709411 0.45165283 0.        ]\n",
      " [0.18879295 0.53755739 0.7038525 ]]\n",
      "L(Answer):\n",
      "[[0.8949559270845976, 0.0, 0.0], [0.09709410577889332, 0.4516528344365602, 0.0], [0.18879294520099682, 0.5375573855264107, 0.7038524987576734]]\n",
      "MY TIME: 7.891654968261719e-05\n",
      "LINALG TIME: 0.00024390220642089844\n"
     ]
    }
   ],
   "source": [
    "#Cholesky method\n",
    "import math\n",
    "import numpy as np\n",
    "import time\n",
    "\n",
    "def cholesky(A):\n",
    "    n = len(A)\n",
    "    L = [[0.0] * n for i in range(n)]\n",
    "    for i in range(n):\n",
    "        for k in range(i + 1):\n",
    "            tmp_sum = sum(L[i][j] * L[k][j] for j in range(k))\n",
    "            if (i == k): \n",
    "                L[i][k] = math.sqrt(abs(A[i][i] - tmp_sum))\n",
    "            else:\n",
    "                L[i][k] = (1.0 / L[k][k] * (A[i][k] - tmp_sum))\n",
    "    return L\n",
    "n = 3\n",
    "X = np.random.rand(n, n)\n",
    "A = np.transpose(X) * X\n",
    "\n",
    "for i in range(n):\n",
    "    for j in range(n):\n",
    "        if i != j:\n",
    "            A[i][i] += A[i][j] \n",
    "\n",
    "L = A\n",
    "\n",
    "L = A.dot(np.transpose(L))\n",
    "\n",
    "\n",
    "my_time = time.time()\n",
    "B = cholesky(L)\n",
    "my_time = time.time() - my_time\n",
    "\n",
    "print (\"A:\")\n",
    "print(A)\n",
    "\n",
    "print(\"Linalg:\")\n",
    "linalg_time = time.time()\n",
    "print(np.linalg.cholesky(L))\n",
    "linalg_time = time.time() - linalg_time\n",
    "\n",
    "print (\"L(Answer):\")\n",
    "print(B)\n",
    "\n",
    "print(\"MY TIME:\", my_time)\n",
    "print(\"LINALG TIME:\", linalg_time)"
   ]
  },
  {
   "cell_type": "code",
   "execution_count": 25,
   "metadata": {},
   "outputs": [
    {
     "data": {
      "text/plain": [
       "[<matplotlib.lines.Line2D at 0x7f85bc1ee390>]"
      ]
     },
     "execution_count": 25,
     "metadata": {},
     "output_type": "execute_result"
    },
    {
     "data": {
      "image/png": "[encoded data removed]",
      "text/plain": [
       "<Figure size 432x288 with 1 Axes>"
      ]
     },
     "metadata": {},
     "output_type": "display_data"
    }
   ],
   "source": [
    "import matplotlib.pyplot as plt\n",
    "n = [100, 200, 300, 400, 500]\n",
    "MY_TIME = [0.03864097595214844, 0.28725266456604004, 0.9641067981719971, 2.4486637115478516, 4.5200841426849365]\n",
    "LINALG_TIME = [0.001354217529296875, 0.0017931461334228516,  0.0028612613677978516, 0.007332801818847656, 0.007010459899902344]\n",
    "plt.plot(n, MY_TIME)\n",
    "plt.plot(n, LINALG_TIME)"
   ]
  },
  {
   "cell_type": "code",
   "execution_count": 25,
   "metadata": {},
   "outputs": [
    {
     "name": "stdout",
     "output_type": "stream",
     "text": [
      "3000\n",
      "My alg: [ 0.54451316  0.27442251  0.13189084 ...  0.59542162 -0.4710802\n",
      "  1.94286207]\n",
      "Linalg: [ 0.54451316  0.27442251  0.13189084 ...  0.59542162 -0.4710802\n",
      "  1.94286207]\n",
      "My time: 0.016147851943969727\n",
      "Linalg time: 0.0010223388671875\n"
     ]
    }
   ],
   "source": [
    "#sweep method\n",
    "import numpy as np\n",
    "from scipy.linalg import solve_banded\n",
    "import time\n",
    "\n",
    "def sweep ( a, b, c, f, n):\n",
    "    alpha = (n + 1) * [0]\n",
    "    beta = (n + 1) * [0]\n",
    "    x = np.random.rand(n)\n",
    "    a[0] = 0\n",
    "    c[n -  1] = 0\n",
    "    alpha[0] = 0\n",
    "    beta[0] = 0\n",
    "    for i in range(0, n):  \n",
    "        d = float(a[i] * alpha[i] + b[i])\n",
    "        alpha [i + 1] = float(-c[i] / d)\n",
    "        \n",
    "        beta [i + 1] = float((f[i] - (a[i] * beta[i])) / (d))\n",
    "    x[n - 1] = float(beta[n])\n",
    "    for i in range(n - 2, -1, -1):\n",
    "        x[i] = float(alpha[i + 1] * x[i + 1] + beta[i + 1])\n",
    "    return x\n",
    "\n",
    "n = int(input()) \n",
    "\n",
    "a = np.random.rand(n)\n",
    "a[0] = 0\n",
    "b = np.random.rand(n)\n",
    "c = np.random.rand(n)\n",
    "c[n - 1] = 0\n",
    "for i in range(n):\n",
    "    b[i] += a[i] + b[i]\n",
    "\n",
    "f = np.random.rand(n)\n",
    "a_linalg = np.array([0] + c[:-1].tolist())\n",
    "b_linalg = b\n",
    "c_linalg = np.array(a[1:].tolist() + [0])\n",
    "A = np.array([a_linalg, b_linalg, c_linalg])\n",
    "my_time = time.time()\n",
    "print(\"My alg:\", sweep(a, b, c, f, n))\n",
    "my_time = time.time() - my_time\n",
    "linalg_time = time.time()\n",
    "print(\"Linalg:\", solve_banded((1, 1), A, f))\n",
    "linalg_time = time.time() - linalg_time\n",
    "print(\"My time:\", my_time)\n",
    "print(\"Linalg time:\", linalg_time)"
   ]
  },
  {
   "cell_type": "markdown",
   "metadata": {},
   "source": [
    "### "
   ]
  },
  {
   "cell_type": "code",
   "execution_count": 27,
   "metadata": {},
   "outputs": [
    {
     "data": {
      "text/plain": [
       "[<matplotlib.lines.Line2D at 0x7fc1306b8668>]"
      ]
     },
     "execution_count": 27,
     "metadata": {},
     "output_type": "execute_result"
    },
    {
     "data": {
      "image/png": "[encoded data removed]",
      "text/plain": [
       "<Figure size 432x288 with 1 Axes>"
      ]
     },
     "metadata": {},
     "output_type": "display_data"
    }
   ],
   "source": [
    "import matplotlib.pyplot as plt\n",
    "n = [1000, 2000, 3000, 4000, 5000]\n",
    "MY_TIME = [ 0.016228914260864258,  0.009568214416503906, 0.006544589996337891,  0.017900705337524414, 0.022501468658447266]\n",
    "LINALG_TIME = [ 0.008415937423706055, 0.0007710456848144531, 0.0007398128509521484, 0.0007770061492919922, 0.0007781982421875]\n",
    "plt.plot(n, MY_TIME)\n",
    "plt.plot(n, LINALG_TIME)\n"
   ]
  },
  {
   "cell_type": "code",
   "execution_count": null,
   "metadata": {},
   "outputs": [],
   "source": []
  }
 ],
 "metadata": {
  "kernelspec": {
   "display_name": "Python 3",
   "language": "python",
   "name": "python3"
  },
  "language_info": {
   "codemirror_mode": {
    "name": "ipython",
    "version": 3
   },
   "file_extension": ".py",
   "mimetype": "text/x-python",
   "name": "python",
   "nbconvert_exporter": "python",
   "pygments_lexer": "ipython3",
   "version": "3.6.9"
  }
 },
 "nbformat": 4,
 "nbformat_minor": 2
}
