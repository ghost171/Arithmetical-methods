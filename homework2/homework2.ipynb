{
 "cells": [
  {
   "cell_type": "code",
   "execution_count": 17,
   "metadata": {},
   "outputs": [
    {
     "name": "stdout",
     "output_type": "stream",
     "text": [
      "5\n"
     ]
    }
   ],
   "source": [
    "import numpy as np\n",
    "n = int(input())\n",
    "A = np.random.rand(n, n)\n",
    "f = np.random.rand(n)"
   ]
  },
  {
   "cell_type": "code",
   "execution_count": 18,
   "metadata": {},
   "outputs": [
    {
     "name": "stdout",
     "output_type": "stream",
     "text": [
      "My algorithm:\n",
      "-0.016999495284573393\n",
      "0.2035960380004489\n",
      "0.051595018206652396\n",
      "0.07996148609654091\n",
      "-0.03213809679681124\n",
      "Linalg:\n",
      "-0.020036532978410317\n",
      "0.20133907625601463\n",
      "0.04924645970685361\n",
      "0.0776023077051698\n",
      "-0.0348195337777913\n",
      "My time: 0.00022363662719726562\n",
      "Linalg time: 0.0001685619354248047\n"
     ]
    }
   ],
   "source": [
    "#jacobi\n",
    "import numpy as np\n",
    "import time\n",
    "import math\n",
    "#n = int(input())\n",
    "def jacobi (A , f , x ):\n",
    "    xnew = n * [0]\n",
    "    for i in range(n):\n",
    "        s = 0\n",
    "        for j in range(0, i):\n",
    "            s = s + A [ i ][ j ] * x [ j ]\n",
    "        for j in range(i + 1, n):\n",
    "            s = s + A [ i ][ j ] * x [ j ]\n",
    "        xnew[ i ] = ( f [ i ] - s ) / A [ i ][ i ]\n",
    "    return xnew\n",
    "\n",
    "def diff(x, xnew):\n",
    "    s = float(0)\n",
    "    for i in range(n):\n",
    "        s += float((x[i] - xnew[i]) ** 2) \n",
    "    return float(math.sqrt(s))\n",
    "\n",
    "def solve (A , f):\n",
    "    eps = 0.01\n",
    "    xnew = np.zeros(n)\n",
    "    while True:\n",
    "        x = xnew\n",
    "        xnew = jacobi (A , f , x )\n",
    "        if ( diff(x, xnew ) < eps ):\n",
    "            return x\n",
    "\n",
    "\n",
    "#A = np.random.rand(n, n)\n",
    "#f = np.random.rand(n)\n",
    "for i in range(n):\n",
    "    for j in range(n):\n",
    "        if i != j:\n",
    "            A[i][i] += A[i][j]\n",
    "print(\"My algorithm:\")\n",
    "my_time = time.time()\n",
    "solve(A, f)\n",
    "my_time = time.time() - my_time\n",
    "for el in solve(A, f):\n",
    "    print(el)\n",
    "linalg_time = time.time()\n",
    "print(\"Linalg:\")\n",
    "for el in np.linalg.solve(A, f):\n",
    "    print(el)\n",
    "linalg_time = time.time() - linalg_time\n",
    "print(\"My time:\", my_time)\n",
    "print(\"Linalg time:\", linalg_time)"
   ]
  },
  {
   "cell_type": "code",
   "execution_count": 19,
   "metadata": {},
   "outputs": [
    {
     "data": {
      "text/plain": [
       "[<matplotlib.lines.Line2D at 0x7f8dafdff438>]"
      ]
     },
     "execution_count": 19,
     "metadata": {},
     "output_type": "execute_result"
    },
    {
     "data": {
      "image/png": "[encoded data removed]",
      "text/plain": [
       "<Figure size 432x288 with 1 Axes>"
      ]
     },
     "metadata": {},
     "output_type": "display_data"
    }
   ],
   "source": [
    "import matplotlib.pyplot as plt\n",
    "iteration = [100, 200, 300, 400, 500]\n",
    "MY_TIME = [0.9468948841094971,  6.263490200042725, 19.94689965248108, 28.183253049850464, 60.09920120239258]\n",
    "LINALG_TIME = [0.005753278732299805, 0.03639698028564453, 0.07275509834289551, 0.07690548896789551, 0.08622407913208008]\n",
    "plt.plot(iteration, MY_TIME)\n",
    "plt.plot(iteration, LINALG_TIME)"
   ]
  },
  {
   "cell_type": "markdown",
   "metadata": {},
   "source": []
  },
  {
   "cell_type": "code",
   "execution_count": 20,
   "metadata": {},
   "outputs": [
    {
     "name": "stdout",
     "output_type": "stream",
     "text": [
      "My algorithm:\n",
      "-0.004358517735531975\n",
      "0.12518768522117069\n",
      "0.03112130968879985\n",
      "0.05328004616431387\n",
      "-0.01128239576901811\n",
      "Linalg:\n",
      "-0.004470050494521218\n",
      "0.12445904406602291\n",
      "0.030998033749103298\n",
      "0.05335204049096533\n",
      "-0.011242191128656842\n",
      "Linalg time: 0.00013899803161621094\n",
      "My time: 0.0005590915679931641\n"
     ]
    }
   ],
   "source": [
    "#seidel\n",
    "import time\n",
    "import numpy as np\n",
    "import math\n",
    "#n = int(input())\n",
    "def seidel (A , f , x ):\n",
    "    xnew = np.zeros(n)\n",
    "    for i in range(n):\n",
    "        s = float(0)\n",
    "        for j in range(i):\n",
    "            s = float(s + A [ i ][ j ] * xnew [ j ])\n",
    "        for j in range(i + 1, n):\n",
    "            s = float(s + A[ i ][ j ] * x[ j ])\n",
    "        xnew[ i ] = float(( f[ i ] - s) / A [ i ][ i ])\n",
    "    return xnew\n",
    "\n",
    "def diff(x, xnew):\n",
    "    s = float(0)\n",
    "    for i in range(0, n):\n",
    "        s += float((x[i] - xnew[i]) ** 2)\n",
    "    return float(math.sqrt(s))\n",
    "\n",
    "def solve (A , f ):\n",
    "    xnew = np.zeros(n)\n",
    "    eps = 0.01\n",
    "    while True:\n",
    "        x = np.array(xnew)\n",
    "        xnew = seidel (A , f , x )\n",
    "        if(diff(x, xnew) < eps):\n",
    "            break\n",
    "    return x\n",
    "\n",
    "#A = np.random.rand(n, n)\n",
    "#f = np.random.rand(n)\n",
    "for i in range(n):\n",
    "    for j in range(n):\n",
    "        if i != j:\n",
    "            A[i][i] += A[i][j]\n",
    "print(\"My algorithm:\")\n",
    "my_time = time.time()\n",
    "for i in solve(A, f):\n",
    "    print(i)\n",
    "my_time = time.time() - my_time\n",
    "print(\"Linalg:\")\n",
    "linalg_time = time.time()\n",
    "for i in np.linalg.solve(A, f):\n",
    "    print(i)\n",
    "linalg_time = time.time() - linalg_time\n",
    "print(\"Linalg time:\", linalg_time)\n",
    "print(\"My time:\", my_time)"
   ]
  },
  {
   "cell_type": "code",
   "execution_count": 21,
   "metadata": {},
   "outputs": [
    {
     "data": {
      "text/plain": [
       "[<matplotlib.lines.Line2D at 0x7f8dafd8b710>]"
      ]
     },
     "execution_count": 21,
     "metadata": {},
     "output_type": "execute_result"
    },
    {
     "data": {
      "image/png": "[encoded data removed]",
      "text/plain": [
       "<Figure size 432x288 with 1 Axes>"
      ]
     },
     "metadata": {},
     "output_type": "display_data"
    }
   ],
   "source": [
    "import matplotlib.pyplot as plt\n",
    "n = [100, 200, 300, 400, 500]\n",
    "MY_TIME = [0.03738141059875488, 0.1305844783782959, 0.27446866035461426, 0.5021836757659912,  0.7292873859405518]\n",
    "LINALG_TIME = [0.008453130722045898, 0.025571346282958984, 0.07598114013671875,  0.09530782699584961,  0.1563405990600586]\n",
    "plt.plot(n, MY_TIME)\n",
    "plt.plot(n, LINALG_TIME)"
   ]
  },
  {
   "cell_type": "code",
   "execution_count": null,
   "metadata": {},
   "outputs": [],
   "source": []
  }
 ],
 "metadata": {
  "kernelspec": {
   "display_name": "Python 3",
   "language": "python",
   "name": "python3"
  },
  "language_info": {
   "codemirror_mode": {
    "name": "ipython",
    "version": 3
   },
   "file_extension": ".py",
   "mimetype": "text/x-python",
   "name": "python",
   "nbconvert_exporter": "python",
   "pygments_lexer": "ipython3",
   "version": "3.6.9"
  }
 },
 "nbformat": 4,
 "nbformat_minor": 2
}
