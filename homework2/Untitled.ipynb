{
 "cells": [
  {
   "cell_type": "code",
   "execution_count": 1,
   "metadata": {},
   "outputs": [
    {
     "name": "stdout",
     "output_type": "stream",
     "text": [
      "4\n",
      "My algorithm:\n",
      "[0.28303904155797943, 0.20214888314159626, -0.05047165374207181, -0.049247169872392006]\n",
      "Linalg [ 0.28333311  0.20225473 -0.05019962 -0.0490382 ]\n"
     ]
    }
   ],
   "source": [
    "import numpy as np\n",
    "import math\n",
    "n = int(input())\n",
    "def jacobi (A , f , x ):\n",
    "    xnew = n * [0]\n",
    "    for i in range(n):\n",
    "        s = 0\n",
    "        for j in range(0, i):\n",
    "            s = s + A [ i ][ j ] * x [ j ]\n",
    "        for j in range(i + 1, n):\n",
    "            s = s + A [ i ][ j ] * x [ j ]\n",
    "        xnew[ i ] = ( f [ i ] - s ) / A [ i ][ i ]\n",
    "    return xnew\n",
    "\n",
    "def diff(x, xnew):\n",
    "    s = float(0)\n",
    "    for i in range(n):\n",
    "        s += float((x[i] - xnew[i]) ** 2) \n",
    "    return float(math.sqrt(s))\n",
    "\n",
    "def solve (A , f):\n",
    "    eps = 0.001\n",
    "    xnew = n * [0]\n",
    "    while True:\n",
    "        x = xnew\n",
    "        xnew = jacobi (A , f , x )\n",
    "        if ( abs(diff(x, xnew )) < abs(eps) ):\n",
    "            print(x)\n",
    "            break\n",
    "\n",
    "\n",
    "A = np.random.rand(n, n)\n",
    "f = np.random.rand(n)\n",
    "for i in range(n):\n",
    "    for j in range(n):\n",
    "        if i != j:\n",
    "            A[i][i] += A[i][j]\n",
    "print(\"My algorithm:\")\n",
    "solve(A, f)\n",
    "print(\"Linalg\", np.linalg.solve(A, f))"
   ]
  },
  {
   "cell_type": "markdown",
   "metadata": {},
   "source": []
  },
  {
   "cell_type": "code",
   "execution_count": 17,
   "metadata": {},
   "outputs": [
    {
     "name": "stdout",
     "output_type": "stream",
     "text": [
      "4\n",
      "[[0.75986548 0.39797048 0.05765498 0.83202512]\n",
      " [0.7390996  0.29421589 0.93266282 0.58200744]\n",
      " [0.20717192 0.85727242 0.29609991 0.91588533]\n",
      " [0.94616806 0.85369728 0.94345417 0.69625365]]\n",
      "[0.76204729 0.18565031 0.84298151 0.28780612]\n",
      "My algorithm:\n",
      "[0.37242150067597934, -0.05107504243609801, 0.3364155184108285, -0.006095113239873846]\n",
      "Linalg [ 0.44323938 -0.19406263  0.4485662  -0.11312559]\n"
     ]
    }
   ],
   "source": [
    "import numpy as np\n",
    "import math\n",
    "n = int(input())\n",
    "def seidel (A , f , x ):\n",
    "    xnew = [0] * n\n",
    "    for i in range(n):\n",
    "        s = float(0)\n",
    "        for j in range(i - 1):\n",
    "            s = float(s + A [ i ][ j ] * xnew [ j ])\n",
    "        for j in range(i + 1, n - 1):\n",
    "            s = float(s + A[ i ][ j ] * x[ j ])\n",
    "        xnew[ i ] = float(( f[ i ] - s) / A [ i ][ i ])\n",
    "    return xnew\n",
    "\n",
    "def diff(x, xnew):\n",
    "    s = float(0)\n",
    "    for i in range(0, n):\n",
    "        s += float((x[i] - xnew[i]) ** 2)\n",
    "    return float(math.sqrt(s))\n",
    "\n",
    "def solve (A , f ):\n",
    "    xnew = n * [0]\n",
    "    eps = 0.01\n",
    "    while True:\n",
    "        x = xnew\n",
    "        xnew = seidel (A , f , x )\n",
    "        if(abs(diff(x, xnew)) < abs(eps)):\n",
    "            print(x)\n",
    "            break\n",
    "\n",
    "A = np.random.rand(n, n)\n",
    "f = np.random.rand(n)\n",
    "print(A)\n",
    "print(f)\n",
    "for i in range(n):\n",
    "    for j in range(n):\n",
    "        if i != j:\n",
    "            A[i][i] += A[i][j]\n",
    "print(\"My algorithm:\")\n",
    "solve(A, f)\n",
    "print(\"Linalg\", np.linalg.solve(A, f))"
   ]
  },
  {
   "cell_type": "code",
   "execution_count": null,
   "metadata": {},
   "outputs": [],
   "source": []
  }
 ],
 "metadata": {
  "kernelspec": {
   "display_name": "Python 3",
   "language": "python",
   "name": "python3"
  },
  "language_info": {
   "codemirror_mode": {
    "name": "ipython",
    "version": 3
   },
   "file_extension": ".py",
   "mimetype": "text/x-python",
   "name": "python",
   "nbconvert_exporter": "python",
   "pygments_lexer": "ipython3",
   "version": "3.6.9"
  }
 },
 "nbformat": 4,
 "nbformat_minor": 2
}
